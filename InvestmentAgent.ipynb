{
  "cells": [
    {
      "cell_type": "code",
      "execution_count": null,
      "metadata": {},
      "outputs": [],
      "source": [
        "#colab file link: https://colab.research.google.com/drive/1cYyolS8q6GA1VFkqrNO-pi3z5KxrTZ0H?usp=sharing"
      ]
    },
    {
      "cell_type": "code",
      "execution_count": null,
      "metadata": {
        "id": "UUJSFof8j2cI"
      },
      "outputs": [],
      "source": [
        "!pip install composio_crewai\n",
        "!pip install crewai\n",
        "!pip install langchain-google-genai\n",
        "!pip install 'crewai[tools]' composio-core\n",
        "!pip install composio-langchain\n",
        "!pip install --upgrade stackapi\n",
        "!pip install huggingface_hub\n",
        "!pip install google-search-results\n",
        "!pip install gradio\n",
        "!pip install composio-core\n",
        "!pip install langchain-community\n",
        "\n",
        "!composio-cli add serpapi"
      ]
    },
    {
      "cell_type": "code",
      "execution_count": null,
      "metadata": {
        "id": "N42zb2uSjXwG"
      },
      "outputs": [],
      "source": [
        "from crewai import Agent, Task, Crew, Process\n",
        "from composio_langchain import ComposioToolset, Action, App\n",
        "from langchain_google_genai import ChatGoogleGenerativeAI\n",
        "import os\n",
        "os.environ[\"SERPAPI_API_KEY\"] = os.getenv(\"SERPAPI_API_KEY\")\n",
        "\n",
        "llm = ChatGoogleGenerativeAI(\n",
        "        model=\"gemini-pro\", verbose=True, temperature=0.9, google_api_key=os.getenv(\"GOOGLE_API_KEY\")\n",
        "    )\n",
        "\n",
        "tools = ComposioToolset(actions=[Action.SERPAPI_SEARCH])\n",
        "\n",
        "\n",
        "researcher = Agent(\n",
        "  role='Investment Researcher',\n",
        "  goal='Use SERP to research the top 2 results based on the input given to you and provide a report',\n",
        "  backstory=\"\"\"\n",
        "  You are an expert Investment researcher. Using the information given to you, conduct comprehensive research using\n",
        "  various sources and provide a detailed report. Dont pass in location as an argument to the tool\n",
        "  \"\"\",\n",
        "  verbose=True,\n",
        "  allow_delegation=True,\n",
        "  tools=tools,\n",
        "  llm=llm\n",
        ")\n",
        "\n",
        "\n",
        "analyser = Agent(\n",
        "  role='Investment Analyst',\n",
        "  goal='Analyse the stock based on information available to it, use all the tools',\n",
        "  backstory=\"\"\"\n",
        "  You are an expert Investment Analyst. You research on the given topic and analyse your research for insights.\n",
        "  Note: Do not use SERP when youre writing the report\"\"\",\n",
        "  verbose=True,\n",
        "  tools=tools,\n",
        "  llm=llm\n",
        ")\n",
        "\n",
        "recommend = Agent(\n",
        "  role='Investment Recommendation',\n",
        "  goal='Based on the analyst insights, you offer recommnedations',\n",
        "  backstory=\"\"\"\n",
        "  You are an expert Investment Recommender. You understand the analyst insights and with your expertise suggest and offer\n",
        "  advice on whether to invest or not. List the Pros and Cons as bullet points\n",
        "  \"\"\",\n",
        "  verbose=True,\n",
        "  tools=tools,\n",
        "  llm=llm\n",
        ")\n",
        "user_input = input(\n",
        "        \"Please provide a topic: \"\n",
        "    )\n",
        "\n",
        "\n",
        "analyst_task = Task(\n",
        "    description=f'Research on '+ user_input,\n",
        "    agent = analyser,\n",
        "    expected_output = \"When the input is well researched, throughouly analysed and recommendation is offered\"\n",
        "\n",
        "\n",
        ")\n",
        "\n",
        "    # Create the crew\n",
        "investment_crew = Crew(\n",
        "        agents=[researcher, analyser, recommend],\n",
        "        tasks=[analyst_task],\n",
        "        verbose=1,\n",
        "        #process = Process.sequential,\n",
        "        full_output = True,\n",
        "\n",
        "    )\n",
        "\n",
        "# Execution Flow\n",
        "res = investment_crew.kickoff()"
      ]
    }
  ],
  "metadata": {
    "colab": {
      "provenance": []
    },
    "kernelspec": {
      "display_name": "Python 3",
      "name": "python3"
    },
    "language_info": {
      "name": "python"
    }
  },
  "nbformat": 4,
  "nbformat_minor": 0
}
