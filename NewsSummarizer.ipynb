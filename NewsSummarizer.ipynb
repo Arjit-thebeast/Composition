{
  "cells": [
    {
      "cell_type": "code",
      "execution_count": null,
      "metadata": {},
      "outputs": [],
      "source": [
        "#colab file link: https://colab.research.google.com/drive/1bmCnrHJCzc4YUf2b_ciENIcFWLM3Euq7?usp=sharing"
      ]
    },
    {
      "cell_type": "code",
      "execution_count": null,
      "metadata": {
        "id": "M4dQk7gv9dKL"
      },
      "outputs": [],
      "source": [
        "!pip install composio-langchain\n",
        "!pip install composio-core\n",
        "!pip install langchain-community\n",
        "!pip install huggingface_hub\n",
        "!pip install google-search-results\n",
        "!pip install gradio\n",
        "\n",
        "\n",
        "!composio-cli add serpapi"
      ]
    },
    {
      "cell_type": "code",
      "execution_count": null,
      "metadata": {
        "id": "ZtfnZTY6TRla"
      },
      "outputs": [],
      "source": [
        "from langchain_community.llms import HuggingFaceEndpoint\n",
        "from langchain_community.chat_models.huggingface import ChatHuggingFace\n",
        "\n",
        "llm = HuggingFaceEndpoint(repo_id=\"HuggingFaceH4/zephyr-7b-beta\")\n",
        "\n",
        "chat_model = ChatHuggingFace(llm=llm)\n",
        "# Import from composio_langchain\n",
        "from composio_langchain import ComposioToolset, Action, App\n",
        "from langchain import hub\n",
        "from langchain.agents import AgentExecutor, load_tools\n",
        "from langchain.agents.format_scratchpad import format_log_to_str\n",
        "from langchain.agents.output_parsers import (\n",
        "    ReActJsonSingleInputOutputParser,\n",
        ")\n",
        "from langchain.tools.render import render_text_description\n",
        "from langchain_community.utilities import SerpAPIWrapper\n",
        "\n",
        "# setup tools\n",
        "tools1 = load_tools([\"serpapi\", \"llm-math\"], llm=llm)\n",
        "tools = ComposioToolset(apps=[App.SERPAPI])\n",
        "\n",
        "# setup ReAct style prompt\n",
        "prompt = hub.pull(\"hwchase17/react-json\")\n",
        "prompt = prompt+\"Return only one search result. \"\n",
        "prompt = prompt.partial(\n",
        "    tools=render_text_description(tools),\n",
        "    tool_names=\", \".join([t.name for t in tools]),\n",
        ")\n",
        "\n",
        "# define the agent\n",
        "chat_model_with_stop = chat_model.bind(stop=[\"\\nInvalidStop\"])\n",
        "agent = (\n",
        "    {\n",
        "        \"input\": lambda x: x[\"input\"],\n",
        "        \"agent_scratchpad\": lambda x: format_log_to_str(x[\"intermediate_steps\"]),\n",
        "    }\n",
        "    | prompt\n",
        "    | chat_model_with_stop\n",
        "    | ReActJsonSingleInputOutputParser()\n",
        ")\n",
        "\n",
        "# instantiate AgentExecutor\n",
        "agent_executor = AgentExecutor(agent=agent, tools=tools, verbose=True, handle_parsing_errors=True)\n",
        "agent_executor.return_intermediate_steps = True\n",
        "res = agent_executor.invoke(\n",
        "    {\n",
        "        \"input\": \"Use SERP to find the one latest AI news, take only description of article.\"\n",
        "    }\n",
        ")\n",
        "\n",
        "res2 = agent_executor.invoke({\n",
        "    \"input\": res['output']+' Summarize this'\n",
        "})\n",
        "\n"
      ]
    }
  ],
  "metadata": {
    "colab": {
      "provenance": []
    },
    "kernelspec": {
      "display_name": "Python 3",
      "name": "python3"
    },
    "language_info": {
      "name": "python"
    }
  },
  "nbformat": 4,
  "nbformat_minor": 0
}
