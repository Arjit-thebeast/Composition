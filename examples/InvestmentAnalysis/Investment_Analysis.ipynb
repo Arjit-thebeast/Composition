{
  "nbformat": 4,
  "nbformat_minor": 0,
  "metadata": {
    "colab": {
      "provenance": []
    },
    "kernelspec": {
      "name": "python3",
      "display_name": "Python 3"
    },
    "language_info": {
      "name": "python"
    }
  },
  "cells": [
    {
      "cell_type": "markdown",
      "source": [
        "## Install the required libraries.\n",
        "First, let’s install the necessary packages and connect your SERPAPI account using composio cli so agents can use it. Run the following commands on your terminal:"
      ],
      "metadata": {
        "id": "5Htz1Xhyo0Wg"
      }
    },
    {
      "cell_type": "code",
      "source": [
        "!pip install composio-crewai\n",
        "!pip install crewai\n",
        "!pip install langchain-google-genai"
      ],
      "metadata": {
        "id": "UUJSFof8j2cI"
      },
      "execution_count": null,
      "outputs": []
    },
    {
      "cell_type": "code",
      "source": [
        "!composio login\n",
        "!composio add serpapi"
      ],
      "metadata": {
        "id": "_5dJDQGapL0j"
      },
      "execution_count": null,
      "outputs": []
    },
    {
      "cell_type": "markdown",
      "source": [
        "## Imports and Environment Setup\n",
        "In your Python script, import the necessary libraries and set up your environment variables."
      ],
      "metadata": {
        "id": "x9wHRQ6HpClq"
      }
    },
    {
      "cell_type": "code",
      "source": [
        "from crewai import Agent, Task, Crew, Process\n",
        "from composio_crewai import ComposioToolSet, Action, App\n",
        "from langchain_google_genai import ChatGoogleGenerativeAI\n",
        "import os"
      ],
      "metadata": {
        "id": "7G5JjzKupc5u"
      },
      "execution_count": null,
      "outputs": []
    },
    {
      "cell_type": "markdown",
      "source": [
        "## Initialise tools and LLM\n",
        "We use Composio to initialise our tools.\n"
      ],
      "metadata": {
        "id": "II4T9j7apjJO"
      }
    },
    {
      "cell_type": "code",
      "source": [
        "os.environ[\"SERPAPI_API_KEY\"] = os.getenv(\"SERPAPI_API_KEY\")\n",
        "\n",
        "# Initialize the language model\n",
        "llm = ChatGoogleGenerativeAI(\n",
        "model=\"gemini-pro\", verbose=True, temperature=0.9, google_api_key=os.getenv(\"GOOGLE_API_KEY\")\n",
        ")\n",
        "\n",
        "# Define tools for the agents\n",
        "composio_toolset = ComposioToolSet()\n",
        "tools = composio_toolset.get_actions(actions=[Action.SERPAPI_SEARCH])"
      ],
      "metadata": {
        "id": "GrCDJ8qxphib"
      },
      "execution_count": null,
      "outputs": []
    },
    {
      "cell_type": "markdown",
      "source": [
        "## Defining the Agent\n",
        "\n",
        "Define the roles and goals of our agents. There are four agents in use here: Investment Researcher, Investment Analyst, and Investment Recommender agents."
      ],
      "metadata": {
        "id": "cQRfLwZVqeQo"
      }
    },
    {
      "cell_type": "code",
      "source": [
        " # Define the Investment Researcher agent\n",
        " researcher = Agent(\n",
        "     role='Investment Researcher',\n",
        "     goal='Use SERP to research the top 2 results based on the input given to you and provide a report',\n",
        "     backstory=\"\"\"\n",
        "     You are an expert Investment researcher. Using the information given to you, conduct comprehensive research using\n",
        "     various sources and provide a detailed report. Don't pass in location as an argument to the tool\n",
        "     \"\"\",\n",
        "     verbose=True,\n",
        "     allow_delegation=True,\n",
        "     tools=tools,\n",
        "     llm=llm\n",
        " )\n",
        " # Define the Investment Analyst agent\n",
        " analyser = Agent(\n",
        "     role='Investment Analyst',\n",
        "     goal='Analyse the stock based on information available to it, use all the tools',\n",
        "     backstory=\"\"\"\n",
        "     You are an expert Investment Analyst. You research on the given topic and analyse your research for insights.\n",
        "     Note: Do not use SERP when you're writing the report\n",
        "     \"\"\",\n",
        "     verbose=True,\n",
        "     tools=tools,\n",
        "     llm=llm\n",
        " )\n",
        "\n",
        " # Define the Investment Recommender agent\n",
        " recommend = Agent(\n",
        "     role='Investment Recommendation',\n",
        "     goal='Based on the analyst insights, you offer recommendations',\n",
        "     backstory=\"\"\"\n",
        "     You are an expert Investment Recommender. You understand the analyst insights and with your expertise suggest and offer\n",
        "     advice on whether to invest or not. List the Pros and Cons as bullet points\n",
        "     \"\"\",\n",
        "     verbose=True,\n",
        "     tools=tools,\n",
        "     llm=llm\n",
        " )\n",
        "\n"
      ],
      "metadata": {
        "id": "ZUQznEIvql0a"
      },
      "execution_count": null,
      "outputs": []
    },
    {
      "cell_type": "markdown",
      "source": [
        "## Defining the Task and Kickoff the Process\n",
        "\n",
        "Create a task for the analyst agent and execute the process."
      ],
      "metadata": {
        "id": "XsjvWIa4qqwq"
      }
    },
    {
      "cell_type": "code",
      "source": [
        "# Get user input for the research topic\n",
        "user_input = input(\"Please provide a topic: \")\n",
        "\n",
        "# Define the task for the analyst agent\n",
        "analyst_task = Task(\n",
        "    description=f'Research on {user_input}',\n",
        "    agent=analyser,\n",
        "    expected_output=\"When the input is well researched, thoroughly analysed and recommendation is offered\"\n",
        ")\n",
        "\n",
        "# Create the crew with the defined agents and task\n",
        "investment_crew = Crew(\n",
        "    agents=[researcher, analyser, recommend],\n",
        "    tasks=[analyst_task],\n",
        "    verbose=1,\n",
        "    full_output=True,\n",
        ")\n",
        "\n",
        "# Execute the process\n",
        "\n",
        "res = investment_crew.kickoff()"
      ],
      "metadata": {
        "id": "2dNRdzZKqvtk"
      },
      "execution_count": null,
      "outputs": []
    },
    {
      "cell_type": "markdown",
      "source": [
        "# Final Code"
      ],
      "metadata": {
        "id": "kpXgnpf-qzLI"
      }
    },
    {
      "cell_type": "code",
      "execution_count": null,
      "metadata": {
        "id": "N42zb2uSjXwG"
      },
      "outputs": [],
      "source": [
        "from crewai import Agent, Task, Crew, Process\n",
        "from composio_langchain import ComposioToolSet, Action, App\n",
        "from langchain_google_genai import ChatGoogleGenerativeAI\n",
        "import os\n",
        "os.environ[\"SERPAPI_API_KEY\"] = os.getenv(\"SERPAPI_API_KEY\")\n",
        "\n",
        "llm = ChatGoogleGenerativeAI(\n",
        "        model=\"gemini-pro\", verbose=True, temperature=0.9, google_api_key=os.getenv(\"GOOGLE_API_KEY\")\n",
        "    )\n",
        "\n",
        "composio_toolset = ComposioToolSet()\n",
        "tools = composio_toolset.get_tools(apps=[App.SERPAPI])\n",
        "\n",
        "researcher = Agent(\n",
        "  role='Investment Researcher',\n",
        "  goal='Use SERP to research the top 2 results based on the input given to you and provide a report',\n",
        "  backstory=\"\"\"\n",
        "  You are an expert Investment researcher. Using the information given to you, conduct comprehensive research using\n",
        "  various sources and provide a detailed report. Dont pass in location as an argument to the tool\n",
        "  \"\"\",\n",
        "  verbose=True,\n",
        "  allow_delegation=True,\n",
        "  tools=tools,\n",
        "  llm=llm\n",
        ")\n",
        "\n",
        "\n",
        "analyser = Agent(\n",
        "  role='Investment Analyst',\n",
        "  goal='Analyse the stock based on information available to it, use all the tools',\n",
        "  backstory=\"\"\"\n",
        "  You are an expert Investment Analyst. You research on the given topic and analyse your research for insights.\n",
        "  Note: Do not use SERP when youre writing the report\"\"\",\n",
        "  verbose=True,\n",
        "  tools=tools,\n",
        "  llm=llm\n",
        ")\n",
        "\n",
        "recommend = Agent(\n",
        "  role='Investment Recommendation',\n",
        "  goal='Based on the analyst insights, you offer recommnedations',\n",
        "  backstory=\"\"\"\n",
        "  You are an expert Investment Recommender. You understand the analyst insights and with your expertise suggest and offer\n",
        "  advice on whether to invest or not. List the Pros and Cons as bullet points\n",
        "  \"\"\",\n",
        "  verbose=True,\n",
        "  tools=tools,\n",
        "  llm=llm\n",
        ")\n",
        "user_input = input(\n",
        "        \"Please provide a topic: \"\n",
        "    )\n",
        "\n",
        "\n",
        "analyst_task = Task(\n",
        "    description=f'Research on '+ user_input,\n",
        "    agent = analyser,\n",
        "    expected_output = \"When the input is well researched, throughouly analysed and recommendation is offered\"\n",
        "\n",
        "\n",
        ")\n",
        "\n",
        "    # Create the crew\n",
        "investment_crew = Crew(\n",
        "        agents=[researcher, analyser, recommend],\n",
        "        tasks=[analyst_task],\n",
        "        verbose=1,\n",
        "        #process = Process.sequential,\n",
        "        full_output = True,\n",
        "\n",
        "    )\n",
        "\n",
        "# Execution Flow\n",
        "res = investment_crew.kickoff()"
      ]
    }
  ]
}