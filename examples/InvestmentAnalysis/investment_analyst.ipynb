{
  "cells": [
    {
      "cell_type": "markdown",
      "metadata": {
        "id": "5Htz1Xhyo0Wg"
      },
      "source": [
        "## Install the required libraries.\n",
        "First, let’s install the necessary packages and connect your SERPAPI account using composio cli so agents can use it. Run the following commands on your terminal:"
      ]
    },
    {
      "cell_type": "code",
      "execution_count": null,
      "metadata": {
        "id": "UUJSFof8j2cI"
      },
      "outputs": [],
      "source": [
        "!pip install composio-crewai\n",
        "!pip install crewai\n",
        "!pip install langchain-openai"
      ]
    },
    {
      "cell_type": "code",
      "execution_count": null,
      "metadata": {
        "id": "_5dJDQGapL0j"
      },
      "outputs": [],
      "source": [
        "!composio login\n",
        "!composio add serpapi"
      ]
    },
    {
      "cell_type": "markdown",
      "metadata": {
        "id": "x9wHRQ6HpClq"
      },
      "source": [
        "## Imports and Environment Setup\n",
        "In your Python script, import the necessary libraries and set up your environment variables."
      ]
    },
    {
      "cell_type": "code",
      "execution_count": null,
      "metadata": {
        "id": "7G5JjzKupc5u"
      },
      "outputs": [],
      "source": [
        "from crewai import Agent, Task, Crew, Process\n",
        "from composio_crewai import ComposioToolSet, Action, App\n",
        "from langchain_openai import ChatOpenAI\n",
        "import os\n",
        "import dotenv\n",
        "import os"
      ]
    },
    {
      "cell_type": "markdown",
      "metadata": {
        "id": "II4T9j7apjJO"
      },
      "source": [
        "## Initialise tools and LLM\n",
        "We use Composio to initialise our tools.\n"
      ]
    },
    {
      "cell_type": "code",
      "execution_count": null,
      "metadata": {
        "id": "GrCDJ8qxphib"
      },
      "outputs": [],
      "source": [
        "dotenv.load_dotenv()\n",
        "llm = ChatOpenAI(openai_api_key=os.environ[\"OPENAI_API_KEY\"], model_name=\"gpt-4o\")\n",
        "# Define tools for the agents\n",
        "composio_toolset = ComposioToolSet()\n",
        "tools = composio_toolset.get_actions(actions=[Action.SERPAPI_SEARCH])"
      ]
    },
    {
      "cell_type": "markdown",
      "metadata": {
        "id": "cQRfLwZVqeQo"
      },
      "source": [
        "## Defining the Agent\n",
        "\n",
        "Define the roles and goals of our agents. There are four agents in use here: Investment Researcher, Investment Analyst, and Investment Recommender agents."
      ]
    },
    {
      "cell_type": "code",
      "execution_count": null,
      "metadata": {
        "id": "ZUQznEIvql0a"
      },
      "outputs": [],
      "source": [
        " # Define the Investment Researcher agent\n",
        " researcher = Agent(\n",
        "     role='Investment Researcher',\n",
        "     goal='Use SERP to research the top 2 results based on the input given to you and provide a report',\n",
        "     backstory=\"\"\"\n",
        "     You are an expert Investment researcher. Using the information given to you, conduct comprehensive research using\n",
        "     various sources and provide a detailed report. Don't pass in location as an argument to the tool\n",
        "     \"\"\",\n",
        "     verbose=True,\n",
        "     allow_delegation=True,\n",
        "     tools=tools,\n",
        "     llm=llm\n",
        " )\n",
        " # Define the Investment Analyst agent\n",
        " analyser = Agent(\n",
        "     role='Investment Analyst',\n",
        "     goal='Analyse the stock based on information available to it, use all the tools',\n",
        "     backstory=\"\"\"\n",
        "     You are an expert Investment Analyst. You research on the given topic and analyse your research for insights.\n",
        "     Note: Do not use SERP when you're writing the report\n",
        "     \"\"\",\n",
        "     verbose=True,\n",
        "     tools=tools,\n",
        "     llm=llm\n",
        " )\n",
        "\n",
        " # Define the Investment Recommender agent\n",
        " recommend = Agent(\n",
        "     role='Investment Recommendation',\n",
        "     goal='Based on the analyst insights, you offer recommendations',\n",
        "     backstory=\"\"\"\n",
        "     You are an expert Investment Recommender. You understand the analyst insights and with your expertise suggest and offer\n",
        "     advice on whether to invest or not. List the Pros and Cons as bullet points\n",
        "     \"\"\",\n",
        "     verbose=True,\n",
        "     tools=tools,\n",
        "     llm=llm\n",
        " )\n",
        "\n"
      ]
    },
    {
      "cell_type": "markdown",
      "metadata": {
        "id": "XsjvWIa4qqwq"
      },
      "source": [
        "## Defining the Task and Kickoff the Process\n",
        "\n",
        "Create a task for the analyst agent and execute the process."
      ]
    },
    {
      "cell_type": "code",
      "execution_count": null,
      "metadata": {
        "id": "2dNRdzZKqvtk"
      },
      "outputs": [],
      "source": [
        "# Get user input for the research topic\n",
        "user_input = input(\"Please provide a topic: \")\n",
        "\n",
        "# Define the task for the analyst agent\n",
        "analyst_task = Task(\n",
        "    description=f'Research on {user_input}',\n",
        "    agent=analyser,\n",
        "    expected_output=\"When the input is well researched, thoroughly analysed and recommendation is offered\"\n",
        ")\n",
        "\n",
        "# Create the crew with the defined agents and task\n",
        "investment_crew = Crew(\n",
        "    agents=[researcher, analyser, recommend],\n",
        "    tasks=[analyst_task],\n",
        "    verbose=1,\n",
        "    full_output=True,\n",
        ")\n",
        "\n",
        "# Execute the process\n",
        "\n",
        "res = investment_crew.kickoff()"
      ]
    },
    {
      "cell_type": "markdown",
      "metadata": {
        "id": "kpXgnpf-qzLI"
      },
      "source": [
        "# Final Code"
      ]
    },
    {
      "cell_type": "code",
      "execution_count": null,
      "metadata": {
        "id": "N42zb2uSjXwG"
      },
      "outputs": [],
      "source": [
        "from crewai import Agent, Task, Crew, Process\n",
        "from composio_langchain import ComposioToolSet, App\n",
        "from langchain_openai import ChatOpenAI\n",
        "import os\n",
        "import dotenv\n",
        "\n",
        "# Load environment variables\n",
        "dotenv.load_dotenv()\n",
        "\n",
        "# Initialize the language model with OpenAI API key and model name\n",
        "llm = ChatOpenAI(openai_api_key=os.environ[\"OPENAI_API_KEY\"], model_name=\"gpt-4o\")\n",
        "\n",
        "# Setup tools using ComposioToolSet\n",
        "composio_toolset = ComposioToolSet()\n",
        "tools = composio_toolset.get_tools(apps=[App.SERPAPI])\n",
        "\n",
        "# Define the Investment Researcher agent\n",
        "researcher = Agent(\n",
        "    role='Investment Researcher',\n",
        "    goal='Use SERP to research the top 2 results based on the input given to you and provide a report',\n",
        "    backstory=\"\"\"\n",
        "    You are an expert Investment researcher. Using the information given to you, conduct comprehensive research using\n",
        "    various sources and provide a detailed report. Don't pass in location as an argument to the tool.\n",
        "    \"\"\",\n",
        "    verbose=True,\n",
        "    allow_delegation=True,\n",
        "    tools=tools,\n",
        "    llm=llm\n",
        ")\n",
        "\n",
        "# Define the Investment Analyst agent\n",
        "analyser = Agent(\n",
        "    role='Investment Analyst',\n",
        "    goal='Analyse the stock based on information available to it, use all the tools',\n",
        "    backstory=\"\"\"\n",
        "    You are an expert Investment Analyst. You research on the given topic and analyse your research for insights.\n",
        "    Note: Do not use SERP when you're writing the report.\n",
        "    \"\"\",\n",
        "    verbose=True,\n",
        "    tools=tools,\n",
        "    llm=llm\n",
        ")\n",
        "\n",
        "# Define the Investment Recommendation agent\n",
        "recommend = Agent(\n",
        "    role='Investment Recommendation',\n",
        "    goal='Based on the analyst insights, you offer recommendations',\n",
        "    backstory=\"\"\"\n",
        "    You are an expert Investment Recommender. You understand the analyst insights and with your expertise suggest and offer\n",
        "    advice on whether to invest or not. List the Pros and Cons as bullet points.\n",
        "    \"\"\",\n",
        "    verbose=True,\n",
        "    tools=tools,\n",
        "    llm=llm\n",
        ")\n",
        "\n",
        "# Get user input for the research topic\n",
        "user_input = input(\"Please provide a topic: \")\n",
        "\n",
        "# Define the task for the analyst agent\n",
        "analyst_task = Task(\n",
        "    description=f'Research on {user_input}',\n",
        "    agent=analyser,\n",
        "    expected_output=\"When the input is well researched, thoroughly analysed, and recommendation is offered\"\n",
        ")\n",
        "\n",
        "# Create the investment crew with the defined agents and task\n",
        "investment_crew = Crew(\n",
        "    agents=[researcher, analyser, recommend],\n",
        "    tasks=[analyst_task],\n",
        "    verbose=1,\n",
        "    # process=Process.sequential,  # Uncomment if sequential processing is required\n",
        "    full_output=True,\n",
        ")\n",
        "\n",
        "# Execute the investment crew workflow\n",
        "res = investment_crew.kickoff()\n",
        "\n",
        "# Print the result of the execution\n",
        "print(res)"
      ]
    }
  ],
  "metadata": {
    "colab": {
      "provenance": []
    },
    "kernelspec": {
      "display_name": "Python 3",
      "name": "python3"
    },
    "language_info": {
      "name": "python"
    }
  },
  "nbformat": 4,
  "nbformat_minor": 0
}
