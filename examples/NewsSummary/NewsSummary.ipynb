{
  "nbformat": 4,
  "nbformat_minor": 0,
  "metadata": {
    "colab": {
      "provenance": []
    },
    "kernelspec": {
      "name": "python3",
      "display_name": "Python 3"
    },
    "language_info": {
      "name": "python"
    }
  },
  "cells": [
    {
      "cell_type": "markdown",
      "source": [
        "\n",
        "## Install required packages\n",
        "\n",
        "Install the required packages and connect your SerpAPI account so agents can use it to retrieve news articles. Run the following commands on your terminal:"
      ],
      "metadata": {
        "id": "XIwdmbpjoVxW"
      }
    },
    {
      "cell_type": "code",
      "source": [
        "!pip install composio-langchain\n",
        "!pip install composio-core\n",
        "!pip install langchain-community\n",
        "!pip install huggingface_hub\n",
        "!pip install google-search-results\n",
        "!pip install gradio"
      ],
      "metadata": {
        "id": "M4dQk7gv9dKL"
      },
      "execution_count": null,
      "outputs": []
    },
    {
      "cell_type": "markdown",
      "source": [
        "Use Composio to add SERP tool"
      ],
      "metadata": {
        "id": "kV96aDJnwk-S"
      }
    },
    {
      "cell_type": "code",
      "source": [
        "!composio login\n",
        "!composio add serpapi"
      ],
      "metadata": {
        "id": "XgbxRQwSwgty"
      },
      "execution_count": null,
      "outputs": []
    },
    {
      "cell_type": "markdown",
      "source": [
        "## Import base packages\n",
        "Begin by importing the necessary packages:"
      ],
      "metadata": {
        "id": "_GuLs_BPwqup"
      }
    },
    {
      "cell_type": "code",
      "source": [
        "from langchain_community.document_loaders import WebBaseLoader\n",
        "#To use Open Source LLMs from huggingface\n",
        "from langchain_community.llms import HuggingFaceEndpoint\n",
        "from langchain_community.chat_models.huggingface import ChatHuggingFace\n",
        "#Langchain Utilities for Agents\n",
        "from langchain.agents import AgentExecutor, load_tools\n",
        "from langchain.agents.format_scratchpad import format_log_to_str\n",
        "from langchain.agents.output_parsers import (\n",
        "    ReActJsonSingleInputOutputParser,\n",
        ")\n",
        "from langchain import hub\n",
        "from langchain.tools.render import render_text_description\n",
        "#Importing Composio\n",
        "from composio_langchain import ComposioToolSet, Action, App"
      ],
      "metadata": {
        "id": "A4YVU-cXwuiT"
      },
      "execution_count": null,
      "outputs": []
    },
    {
      "cell_type": "markdown",
      "source": [
        "## Initialise the Tools\n",
        "\n"
      ],
      "metadata": {
        "id": "PSN_P7Zkw1qZ"
      }
    },
    {
      "cell_type": "code",
      "source": [
        "composio_toolset = ComposioToolSet()\n",
        "tools = composio_toolset.get_tools(apps=[App.SERPAPI])"
      ],
      "metadata": {
        "id": "SWzdnQLjxAjD"
      },
      "execution_count": null,
      "outputs": []
    },
    {
      "cell_type": "markdown",
      "source": [
        "## Initialise the LLM"
      ],
      "metadata": {
        "id": "GcPFVyhyxDwP"
      }
    },
    {
      "cell_type": "code",
      "source": [
        "llm = HuggingFaceEndpoint(repo_id=\"HuggingFaceH4/zephyr-7b-beta\")\n",
        "chat_model = ChatHuggingFace(llm=llm)"
      ],
      "metadata": {
        "id": "UcOZPfEXxI44"
      },
      "execution_count": null,
      "outputs": []
    },
    {
      "cell_type": "markdown",
      "source": [
        "## Setup ReAct Style Prompt Template\n",
        "Set up the prompt template using Langchain Hub:\n",
        "\n",
        "\n",
        "\n"
      ],
      "metadata": {
        "id": "CrgpaF2mxM5j"
      }
    },
    {
      "cell_type": "code",
      "source": [
        "#We use Langchain Hub for the Prompt Template\n",
        "prompt = hub.pull(\"hwchase17/react-json\")\n",
        "#prompt.partial assigns values to some parameters defined within the prompt template\n",
        "prompt = prompt.partial(\n",
        "tools=render_text_description(tools),\n",
        "tool_names=\", \".join([t.name for t in tools]),\n",
        ")"
      ],
      "metadata": {
        "id": "1aPXwQKuxTIs"
      },
      "execution_count": null,
      "outputs": []
    },
    {
      "cell_type": "markdown",
      "source": [
        "## Define the Agent\n",
        "Define the agent to process the news retrieval and summarization\n"
      ],
      "metadata": {
        "id": "5doj2lWKxhcT"
      }
    },
    {
      "cell_type": "code",
      "source": [
        "chat_model_with_stop = chat_model.bind(stop=[\"\\nInvalidStop\"])\n",
        "agent = (\n",
        "{\n",
        "\"input\": lambda x: x[\"input\"],\n",
        "\"agent_scratchpad\": lambda x: format_log_to_str(x[\"intermediate_steps\"]),\n",
        "}\n",
        "| prompt\n",
        "| chat_model_with_stop\n",
        "| ReActJsonSingleInputOutputParser()\n",
        ")"
      ],
      "metadata": {
        "id": "pSSKNOvXxmx1"
      },
      "execution_count": null,
      "outputs": []
    },
    {
      "cell_type": "markdown",
      "source": [
        "## Executing the Agent\n",
        "Use the agent to find the latest AI news and summarize it:\n"
      ],
      "metadata": {
        "id": "D3TjTiC0xqp8"
      }
    },
    {
      "cell_type": "code",
      "source": [
        "agent_executor = AgentExecutor(agent=agent, tools=tools, verbose=True, handle_parsing_errors=True)\n",
        "agent_executor.return_intermediate_steps = True\n",
        "res = agent_executor.invoke(\n",
        "    {\n",
        "        \"input\": \"Use SERP to find the one latest AI news, take only description of article.\"\n",
        "    }\n",
        ")\n",
        "\n",
        "res2 = agent_executor.invoke({\n",
        "    \"input\": res['output']+' Summarize this'\n",
        "})\n"
      ],
      "metadata": {
        "id": "tEwp3wdixxGz"
      },
      "execution_count": null,
      "outputs": []
    },
    {
      "cell_type": "markdown",
      "source": [
        "## Putting it All Together"
      ],
      "metadata": {
        "id": "2-vI6WZHx3JO"
      }
    },
    {
      "cell_type": "code",
      "source": [
        "from langchain_community.llms import HuggingFaceEndpoint\n",
        "from langchain_community.chat_models.huggingface import ChatHuggingFace\n",
        "\n",
        "llm = HuggingFaceEndpoint(repo_id=\"HuggingFaceH4/zephyr-7b-beta\")\n",
        "\n",
        "chat_model = ChatHuggingFace(llm=llm)\n",
        "# Import from composio_langchain\n",
        "from composio_langchain import ComposioToolSet, Action, App\n",
        "from langchain import hub\n",
        "from langchain.agents import AgentExecutor, load_tools\n",
        "from langchain.agents.format_scratchpad import format_log_to_str\n",
        "from langchain.agents.output_parsers import (\n",
        "    ReActJsonSingleInputOutputParser,\n",
        ")\n",
        "from langchain.tools.render import render_text_description\n",
        "from langchain_community.utilities import SerpAPIWrapper\n",
        "\n",
        "# setup tools\n",
        "tools1 = load_tools([\"serpapi\", \"llm-math\"], llm=llm)\n",
        "composio_toolset = ComposioToolSet()\n",
        "tools = composio_toolset.get_tools(apps=[App.SERPAPI])\n",
        "\n",
        "# setup ReAct style prompt\n",
        "prompt = hub.pull(\"hwchase17/react-json\")\n",
        "prompt = prompt+\"Return only one search result. \"\n",
        "prompt = prompt.partial(\n",
        "    tools=render_text_description(tools),\n",
        "    tool_names=\", \".join([t.name for t in tools]),\n",
        ")\n",
        "\n",
        "# define the agent\n",
        "chat_model_with_stop = chat_model.bind(stop=[\"\\nInvalidStop\"])\n",
        "agent = (\n",
        "    {\n",
        "        \"input\": lambda x: x[\"input\"],\n",
        "        \"agent_scratchpad\": lambda x: format_log_to_str(x[\"intermediate_steps\"]),\n",
        "    }\n",
        "    | prompt\n",
        "    | chat_model_with_stop\n",
        "    | ReActJsonSingleInputOutputParser()\n",
        ")\n",
        "\n",
        "# instantiate AgentExecutor\n",
        "agent_executor = AgentExecutor(agent=agent, tools=tools, verbose=True, handle_parsing_errors=True)\n",
        "agent_executor.return_intermediate_steps = True\n",
        "res = agent_executor.invoke(\n",
        "    {\n",
        "        \"input\": \"Use SERP to find the one latest AI news, take only description of article.\"\n",
        "    }\n",
        ")\n",
        "\n",
        "res2 = agent_executor.invoke({\n",
        "    \"input\": res['output']+' Summarize this'\n",
        "})\n",
        "\n"
      ],
      "metadata": {
        "id": "ZtfnZTY6TRla"
      },
      "execution_count": null,
      "outputs": []
    }
  ]
}