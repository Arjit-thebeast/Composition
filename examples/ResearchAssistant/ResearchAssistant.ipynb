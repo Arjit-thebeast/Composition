{
  "nbformat": 4,
  "nbformat_minor": 0,
  "metadata": {
    "colab": {
      "provenance": []
    },
    "kernelspec": {
      "name": "python3",
      "display_name": "Python 3"
    },
    "language_info": {
      "name": "python"
    }
  },
  "cells": [
    {
      "cell_type": "markdown",
      "source": [
        "# Research Assistant\n"
      ],
      "metadata": {
        "id": "GQMzViMNrkuw"
      }
    },
    {
      "cell_type": "markdown",
      "source": [
        "## Install Required Packages\n",
        "We use Crewai, Composio and Langchain to build a research assistant agent."
      ],
      "metadata": {
        "id": "MR45gqCNsfkg"
      }
    },
    {
      "cell_type": "code",
      "source": [
        "!pip install composio_crewai\n",
        "!pip install crewai\n",
        "!pip install langchain-google-genai\n",
        "!pip install 'crewai[tools]'"
      ],
      "metadata": {
        "id": "G2ize0N2l97c"
      },
      "execution_count": null,
      "outputs": []
    },
    {
      "cell_type": "markdown",
      "source": [
        "You need to connect your SerpAPI account using the Composio CLI. This allows agents to use SerpAPI for web searches. Run the following commands on your terminal:"
      ],
      "metadata": {
        "id": "Hfmo7sEFtBft"
      }
    },
    {
      "cell_type": "code",
      "execution_count": null,
      "metadata": {
        "id": "y7mZ5nzXl1fF"
      },
      "outputs": [],
      "source": [
        "!composio login\n",
        "!composio add serpapi"
      ]
    },
    {
      "cell_type": "markdown",
      "source": [
        "## Importing required libraries\n"
      ],
      "metadata": {
        "id": "cDTf4BeVtKeC"
      }
    },
    {
      "cell_type": "code",
      "source": [
        "import os\n",
        "from crewai import Agent, Task, Crew, Process\n",
        "from composio_langchain import ComposioToolSet, Action, App\n",
        "from langchain_google_genai import ChatGoogleGenerativeAI"
      ],
      "metadata": {
        "id": "7pbNN_5OtSUf"
      },
      "execution_count": null,
      "outputs": []
    },
    {
      "cell_type": "markdown",
      "source": [
        "## Initialise LLM"
      ],
      "metadata": {
        "id": "b-U8rf43tV0J"
      }
    },
    {
      "cell_type": "code",
      "source": [
        "llm = ChatGoogleGenerativeAI(\n",
        "model=\"gemini-pro\", verbose=True, temperature=0.9, google_api_key=os.getenv(\"GOOGLE_API_KEY\")\n",
        ")"
      ],
      "metadata": {
        "id": "LPhOuNIgudbY"
      },
      "execution_count": null,
      "outputs": []
    },
    {
      "cell_type": "markdown",
      "source": [
        "## Initialise Tools"
      ],
      "metadata": {
        "id": "RIGIaLk3uPQ4"
      }
    },
    {
      "cell_type": "code",
      "source": [
        "# Composio tool for serpapi\n",
        "composio_toolset = ComposioToolSet()\n",
        "tools = composio_toolset.get_tools(actions=[Action.SERPAPI_SEARCH])"
      ],
      "metadata": {
        "id": "tX6BkracuheL"
      },
      "execution_count": null,
      "outputs": []
    },
    {
      "cell_type": "markdown",
      "source": [
        "## Initialise Agent"
      ],
      "metadata": {
        "id": "QQVP5WDquU0w"
      }
    },
    {
      "cell_type": "code",
      "source": [
        " researcher = Agent(\n",
        "     role='Researcher',\n",
        "     goal='Search the internet for the information requested',\n",
        "     backstory=\"\"\"\n",
        "     You are a researcher. Using the information in the task, you find out some of the most popular facts about the topic along with some of the trending aspects.\n",
        "     You provide a lot of information thereby allowing a choice in the content selected for the final blog.\n",
        "     \"\"\",\n",
        "     verbose=True,\n",
        "     allow_delegation=False,\n",
        "     tools=tools,\n",
        "     llm=llm\n",
        " )\n"
      ],
      "metadata": {
        "id": "lQvgmkFrui4t"
      },
      "execution_count": null,
      "outputs": []
    },
    {
      "cell_type": "markdown",
      "source": [
        "## Define the task and execute"
      ],
      "metadata": {
        "id": "HkUuU6zZuY5D"
      }
    },
    {
      "cell_type": "code",
      "source": [
        "task1 = Task( description=\"\"\"Research about open source LLMs vs\n",
        "    closed source LLMs. Your final answer MUST be a full analysis report\"\"\", #To\n",
        "    change the topic, edit the text after 'Research about' in the description\n",
        "    parameter of task1 expected_output='When the research report is ready',\n",
        "    agent=researcher\n",
        ")\n",
        "task1.execute()\n"
      ],
      "metadata": {
        "id": "Xy8EyU62umVD"
      },
      "execution_count": null,
      "outputs": []
    },
    {
      "cell_type": "markdown",
      "source": [
        "## Putting it all Together"
      ],
      "metadata": {
        "id": "WML0LynRuoD1"
      }
    },
    {
      "cell_type": "code",
      "source": [
        "from crewai import Agent, Task, Crew, Process\n",
        "from composio_langchain import ComposioToolSet, Action, App\n",
        "from langchain_google_genai import ChatGoogleGenerativeAI\n",
        "\n",
        "llm = ChatGoogleGenerativeAI(\n",
        "        model=\"gemini-pro\", verbose=True, temperature=0.9, google_api_key=os.environ(\"GOOGLE_API_KEY\")\n",
        "    )\n",
        "composio_toolset = ComposioToolSet()\n",
        "tools = composio_toolset.get_tools(apps=[App.SERPAPI])\n",
        "\n",
        "researcher = Agent(\n",
        "  role='Researcher',\n",
        "  goal='Search the internet for the information requested',\n",
        "  backstory=\"\"\"\n",
        "  You are a researcher. Using the information in the task, you find out some of the most popular facts about the topic along with some of the trending aspects.\n",
        "  You provide a lot of information thereby allowing a choice in the content selected for the final blog.\n",
        "  \"\"\",\n",
        "  verbose=True,\n",
        "  allow_delegation=False,\n",
        "  tools=tools,\n",
        "  llm=llm\n",
        ")\n",
        "task1 = Task(\n",
        "  description=\"\"\"Research about open source LLMs vs closed source LLMs.\n",
        "  Your final answer MUST be a full analysis report\"\"\",\n",
        "  expected_output='When the research report is ready',\n",
        "  agent=researcher\n",
        ")\n",
        "task1.execute()"
      ],
      "metadata": {
        "id": "AyqQ3tHhl6J8"
      },
      "execution_count": null,
      "outputs": []
    }
  ]
}