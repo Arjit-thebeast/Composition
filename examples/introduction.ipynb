{
 "cells": [
  {
   "cell_type": "code",
   "execution_count": null,
   "metadata": {},
   "outputs": [],
   "source": [
    "from composio import Composio, TestIntegration, SchemaFormat\n",
    "\n",
    "composio_client = Composio(\"api-key\")\n",
    "\n",
    "integration = composio_client.get_app_integration(TestIntegration.GITHUB)\n",
    "\n",
    "# print(integration.get_required_variables())\n",
    "\n",
    "# OAUTH 2 flow\n",
    "connection_request = integration.initiate_connection(user_id=None)\n",
    "print(\n",
    "    f\"Please complete the auth flow by opening this link: {connection_request.redirectUrl}\"\n",
    ")"
   ]
  },
  {
   "cell_type": "code",
   "execution_count": null,
   "metadata": {},
   "outputs": [],
   "source": [
    "from composio import Composio, TestIntegration, SchemaFormat\n",
    "\n",
    "composio_client = Composio(\"api-key\")\n",
    "\n",
    "integration = composio_client.get_app_integration(TestIntegration.GITHUB)\n",
    "\n",
    "# print(integration.get_required_variables())\n",
    "\n",
    "# OAUTH 2 flow\n",
    "connection_request = integration.initiate_connection(user_id=None)\n",
    "print(\n",
    "    f\"Please complete the auth flow by opening this link: {connection_request.redirectUrl}\"\n",
    ")"
   ]
  },
  {
   "cell_type": "code",
   "execution_count": null,
   "metadata": {},
   "outputs": [],
   "source": [
    "connected_account = connection_request.wait_until_active(timeout=60)"
   ]
  },
  {
   "cell_type": "code",
   "execution_count": null,
   "metadata": {},
   "outputs": [],
   "source": [
    "actions = connected_account.get_all_actions(format=SchemaFormat.OPENAI)"
   ]
  },
  {
   "cell_type": "code",
   "execution_count": null,
   "metadata": {},
   "outputs": [],
   "source": [
    "from openai import OpenAI\n",
    "\n",
    "client = OpenAI(api_key=\"*********OPENAIKEY**********\")\n",
    "\n",
    "response = client.chat.completions.create(\n",
    "    model=\"gpt-4-turbo-preview\",\n",
    "    tools=actions,\n",
    "    messages=[\n",
    "        {\"role\": \"system\", \"content\": \"You are a good assistant.\"},\n",
    "        {\n",
    "            \"role\": \"user\",\n",
    "            \"content\": \"Create a new issue in a repository and title it 'This is so cool!', \\\n",
    "and the body of the issue is 'Does it work? Lets try.'. \\\n",
    "The owner of the repository is utkarsh-dixit and name of the repository is speedy\",\n",
    "        },\n",
    "    ],\n",
    ")"
   ]
  },
  {
   "cell_type": "code",
   "execution_count": null,
   "metadata": {},
   "outputs": [],
   "source": [
    "# All function calls can be executed together.\n",
    "execution_details = connected_account.handle_tools_calls(response)\n",
    "\n",
    "if execution_details[0]['execution_details']['executed'] {\n",
    "\tprint(\"created issue\")\n",
    "}\n"
   ]
  }
 ],
 "metadata": {
  "language_info": {
   "name": "python"
  }
 },
 "nbformat": 4,
 "nbformat_minor": 2
}
