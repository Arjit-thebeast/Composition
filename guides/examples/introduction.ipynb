{
 "cells": [
  {
   "cell_type": "code",
   "execution_count": null,
   "metadata": {},
   "outputs": [],
   "source": [
    "# TODO (Rahul): Edit this according to the new SDK definition.\n",
    "from composio import Composio, SchemaFormat,App\n",
    "\n",
    "client = Composio(\"APIKEY\")  # Init using API Key\n",
    "\n",
    "enity = client.get_entity(\"1211\")\n",
    "\n",
    "\n",
    "# Trying to initiate a new connection\n",
    "connection_request = enity.initiate_connection(app_name=App.GITHUB)\n",
    "\n",
    "print(\"Complete the auth flow, link: \", connection_request.redirectUrl)\n",
    "\n",
    "# Keep Polling and wait until timeout\n",
    "connected_account = connection_request.wait_until_active(timeout=60)\n",
    "\n",
    "# Get based on Connected Account, Format\n",
    "actions = connected_account.get_all_actions(format=SchemaFormat.OPENAI)\n",
    "\n",
    "print(\"All Supported Actions\")\n",
    "print(actions)\n",
    "print(\"####\")\n",
    "\n",
    "from openai import OpenAI\n",
    "\n",
    "my_task = \"Star a repo SamparkAI/docs on GitHub\"\n",
    "\n",
    "# Initialize the OpenAI client with your API key\n",
    "openai_client = OpenAI(api_key=\"sk-A6hf7dJr4ELj\")\n",
    "\n",
    "# Create a chat completion request to decide on the action\n",
    "response = openai_client.chat.completions.create(\n",
    "    model=\"gpt-4-turbo-preview\",\n",
    "    tools=actions,  # Passing actions we fetched earlier.\n",
    "    messages=[\n",
    "        {\"role\": \"system\", \"content\": \"You are a helpful assistant.\"},\n",
    "        {\"role\": \"user\", \"content\": my_task},\n",
    "    ],\n",
    ")\n",
    "\n",
    "\n",
    "# Execute Function calls\n",
    "execution_details = connected_account.handle_tools_calls(response)\n",
    "\n",
    "print(\"Task Execution Response: \")\n",
    "print(execution_details)\n",
    "print(\"Completed Task\")"
   ]
  }
 ],
 "metadata": {
  "kernelspec": {
   "display_name": "Python 3",
   "language": "python",
   "name": "python3"
  },
  "language_info": {
   "codemirror_mode": {
    "name": "ipython",
    "version": 3
   },
   "file_extension": ".py",
   "mimetype": "text/x-python",
   "name": "python",
   "nbconvert_exporter": "python",
   "pygments_lexer": "ipython3",
   "version": "3.11.1"
  }
 },
 "nbformat": 4,
 "nbformat_minor": 2
}
