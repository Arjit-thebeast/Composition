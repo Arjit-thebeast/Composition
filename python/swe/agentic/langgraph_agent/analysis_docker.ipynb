{
 "cells": [
  {
   "cell_type": "code",
   "execution_count": 16,
   "metadata": {},
   "outputs": [],
   "source": [
    "from swebench.harness.utils import load_swebench_dataset\n",
    "from swebench.harness.test_spec import make_test_spec\n",
    "instances = load_swebench_dataset(split=\"test\", name=\"princeton-nlp/SWE-bench_Verified\")"
   ]
  },
  {
   "cell_type": "code",
   "execution_count": 17,
   "metadata": {},
   "outputs": [
    {
     "data": {
      "text/plain": [
       "'/Users/shrey/.local/share/virtualenvs/python-PN9waRBr/lib/python3.10/site-packages/swebench/__init__.py'"
      ]
     },
     "execution_count": 17,
     "metadata": {},
     "output_type": "execute_result"
    }
   ],
   "source": [
    "import swebench\n",
    "swebench.__file__"
   ]
  },
  {
   "cell_type": "code",
   "execution_count": 18,
   "metadata": {},
   "outputs": [],
   "source": [
    "def get_instance(pattern=None, version=None):\n",
    "    instances_list = []\n",
    "    for instance in instances:\n",
    "        if pattern and version:\n",
    "            if pattern in instance[\"instance_id\"] and instance[\"version\"] == version:\n",
    "                instances_list.append(instance)\n",
    "        elif pattern and not version:\n",
    "            if pattern in instance[\"instance_id\"]:\n",
    "                instances_list.append(instance)\n",
    "        elif not pattern and version:\n",
    "            if instance[\"version\"] == version:\n",
    "                instances_list.append(instance)\n",
    "        else:\n",
    "            instances_list.append(instance)\n",
    "    return sorted(instances_list, key=lambda x: x[\"instance_id\"])"
   ]
  },
  {
   "cell_type": "code",
   "execution_count": 22,
   "metadata": {},
   "outputs": [],
   "source": [
    "insts = get_instance(pattern=\"7440\")\n",
    "inst = insts[0]\n",
    "test_spec = make_test_spec(inst)\n"
   ]
  },
  {
   "cell_type": "code",
   "execution_count": 23,
   "metadata": {},
   "outputs": [
    {
     "name": "stdout",
     "output_type": "stream",
     "text": [
      "#!/bin/bash\n",
      "set -uxo pipefail\n",
      "source /opt/miniconda3/bin/activate\n",
      "conda activate testbed\n",
      "cd /testbed\n",
      "git config --global --add safe.directory /testbed\n",
      "cd /testbed\n",
      "git status\n",
      "git show\n",
      "git diff 9bb204dcabe6ba0fc422bf4a45ad0c79c680d90b\n",
      "source /opt/miniconda3/bin/activate\n",
      "conda activate testbed\n",
      "python -m pip install -e .[test]\n",
      "git checkout 9bb204dcabe6ba0fc422bf4a45ad0c79c680d90b tests/test_domain_std.py\n",
      "git apply -v - <<'EOF_114329324912'\n",
      "diff --git a/tests/test_domain_std.py b/tests/test_domain_std.py\n",
      "--- a/tests/test_domain_std.py\n",
      "+++ b/tests/test_domain_std.py\n",
      "@@ -99,7 +99,7 @@ def test_glossary(app):\n",
      "     text = (\".. glossary::\\n\"\n",
      "             \"\\n\"\n",
      "             \"   term1\\n\"\n",
      "-            \"   term2\\n\"\n",
      "+            \"   TERM2\\n\"\n",
      "             \"       description\\n\"\n",
      "             \"\\n\"\n",
      "             \"   term3 : classifier\\n\"\n",
      "@@ -114,7 +114,7 @@ def test_glossary(app):\n",
      "     assert_node(doctree, (\n",
      "         [glossary, definition_list, ([definition_list_item, ([term, (\"term1\",\n",
      "                                                                      index)],\n",
      "-                                                             [term, (\"term2\",\n",
      "+                                                             [term, (\"TERM2\",\n",
      "                                                                      index)],\n",
      "                                                              definition)],\n",
      "                                      [definition_list_item, ([term, (\"term3\",\n",
      "@@ -127,7 +127,7 @@ def test_glossary(app):\n",
      "     assert_node(doctree[0][0][0][0][1],\n",
      "                 entries=[(\"single\", \"term1\", \"term-term1\", \"main\", None)])\n",
      "     assert_node(doctree[0][0][0][1][1],\n",
      "-                entries=[(\"single\", \"term2\", \"term-term2\", \"main\", None)])\n",
      "+                entries=[(\"single\", \"TERM2\", \"term-TERM2\", \"main\", None)])\n",
      "     assert_node(doctree[0][0][0][2],\n",
      "                 [definition, nodes.paragraph, \"description\"])\n",
      "     assert_node(doctree[0][0][1][0][1],\n",
      "@@ -143,7 +143,7 @@ def test_glossary(app):\n",
      "     # index\n",
      "     objects = list(app.env.get_domain(\"std\").get_objects())\n",
      "     assert (\"term1\", \"term1\", \"term\", \"index\", \"term-term1\", -1) in objects\n",
      "-    assert (\"term2\", \"term2\", \"term\", \"index\", \"term-term2\", -1) in objects\n",
      "+    assert (\"TERM2\", \"TERM2\", \"term\", \"index\", \"term-TERM2\", -1) in objects\n",
      "     assert (\"term3\", \"term3\", \"term\", \"index\", \"term-term3\", -1) in objects\n",
      "     assert (\"term4\", \"term4\", \"term\", \"index\", \"term-term4\", -1) in objects\n",
      " \n",
      "\n",
      "EOF_114329324912\n",
      "tox --current-env -epy39 -v -- tests/test_domain_std.py\n",
      "git checkout 9bb204dcabe6ba0fc422bf4a45ad0c79c680d90b tests/test_domain_std.py\n",
      "\n"
     ]
    }
   ],
   "source": [
    "print(test_spec.eval_script)"
   ]
  },
  {
   "cell_type": "code",
   "execution_count": 24,
   "metadata": {},
   "outputs": [
    {
     "name": "stdout",
     "output_type": "stream",
     "text": [
      "FROM --platform=linux/arm64/v8 sweb.base.arm64:latest\n",
      "\n",
      "COPY ./setup_env.sh /root/\n",
      "RUN chmod +x /root/setup_env.sh\n",
      "RUN /bin/bash -c \"source ~/.bashrc && /root/setup_env.sh\"\n",
      "\n",
      "WORKDIR /testbed/\n",
      "\n",
      "# Automatically activate the testbed environment\n",
      "RUN echo \"source /opt/miniconda3/etc/profile.d/conda.sh && conda activate testbed\" > /root/.bashrc\n",
      "\n"
     ]
    }
   ],
   "source": [
    "print(test_spec.env_dockerfile)\n",
    "# print(test_spec.__dict__)"
   ]
  },
  {
   "cell_type": "code",
   "execution_count": 26,
   "metadata": {},
   "outputs": [
    {
     "name": "stdout",
     "output_type": "stream",
     "text": [
      "#!/bin/bash\n",
      "set -euxo pipefail\n",
      "source /opt/miniconda3/bin/activate\n",
      "conda create -n testbed python=3.9  -y\n",
      "conda activate testbed\n",
      "python -m pip install tox==4.16.0 tox-current-env==0.0.11\n",
      "\n"
     ]
    }
   ],
   "source": [
    "print(test_spec.setup_env_script)"
   ]
  },
  {
   "cell_type": "code",
   "execution_count": 27,
   "metadata": {},
   "outputs": [
    {
     "name": "stdout",
     "output_type": "stream",
     "text": [
      "FROM --platform=linux/arm64/v8 sweb.env.arm64.c6d251a05e0af7688b64fd:latest\n",
      "\n",
      "COPY ./setup_repo.sh /root/\n",
      "RUN /bin/bash /root/setup_repo.sh\n",
      "\n",
      "WORKDIR /testbed/\n",
      "\n"
     ]
    }
   ],
   "source": [
    "print(test_spec.instance_dockerfile)"
   ]
  },
  {
   "cell_type": "code",
   "execution_count": 28,
   "metadata": {},
   "outputs": [
    {
     "name": "stdout",
     "output_type": "stream",
     "text": [
      "#!/bin/bash\n",
      "set -euxo pipefail\n",
      "git clone -o origin https://github.com/sphinx-doc/sphinx /testbed\n",
      "chmod -R 777 /testbed\n",
      "cd /testbed\n",
      "git reset --hard 9bb204dcabe6ba0fc422bf4a45ad0c79c680d90b\n",
      "git remote remove origin\n",
      "source /opt/miniconda3/bin/activate\n",
      "conda activate testbed\n",
      "echo \"Current environment: $CONDA_DEFAULT_ENV\"\n",
      "sed -i 's/pytest/pytest -rA/' tox.ini\n",
      "sed -i 's/Jinja2>=2.3/Jinja2<3.0/' setup.py\n",
      "sed -i 's/sphinxcontrib-applehelp/sphinxcontrib-applehelp<=1.0.7/' setup.py\n",
      "sed -i 's/sphinxcontrib-devhelp/sphinxcontrib-devhelp<=1.0.5/' setup.py\n",
      "sed -i 's/sphinxcontrib-qthelp/sphinxcontrib-qthelp<=1.0.6/' setup.py\n",
      "sed -i 's/alabaster>=0.7,<0.8/alabaster>=0.7,<0.7.12/' setup.py\n",
      "sed -i \"s/'packaging',/'packaging', 'markupsafe<=2.0.1',/\" setup.py\n",
      "sed -i 's/sphinxcontrib-htmlhelp/sphinxcontrib-htmlhelp<=2.0.4/' setup.py\n",
      "sed -i 's/sphinxcontrib-serializinghtml/sphinxcontrib-serializinghtml<=1.1.9/' setup.py\n",
      "python -m pip install -e .[test]\n",
      "\n"
     ]
    }
   ],
   "source": [
    "print(test_spec.install_repo_script)"
   ]
  },
  {
   "cell_type": "code",
   "execution_count": 29,
   "metadata": {},
   "outputs": [
    {
     "data": {
      "text/plain": [
       "{'repo': 'sphinx-doc/sphinx',\n",
       " 'instance_id': 'sphinx-doc__sphinx-7440',\n",
       " 'base_commit': '9bb204dcabe6ba0fc422bf4a45ad0c79c680d90b',\n",
       " 'patch': 'diff --git a/sphinx/domains/std.py b/sphinx/domains/std.py\\n--- a/sphinx/domains/std.py\\n+++ b/sphinx/domains/std.py\\n@@ -305,7 +305,7 @@ def make_glossary_term(env: \"BuildEnvironment\", textnodes: Iterable[Node], index\\n         term[\\'ids\\'].append(node_id)\\n \\n     std = cast(StandardDomain, env.get_domain(\\'std\\'))\\n-    std.note_object(\\'term\\', termtext.lower(), node_id, location=term)\\n+    std.note_object(\\'term\\', termtext, node_id, location=term)\\n \\n     # add an index entry too\\n     indexnode = addnodes.index()\\n@@ -565,7 +565,7 @@ class StandardDomain(Domain):\\n         # links to tokens in grammar productions\\n         \\'token\\':   TokenXRefRole(),\\n         # links to terms in glossary\\n-        \\'term\\':    XRefRole(lowercase=True, innernodeclass=nodes.inline,\\n+        \\'term\\':    XRefRole(innernodeclass=nodes.inline,\\n                             warn_dangling=True),\\n         # links to headings or arbitrary labels\\n         \\'ref\\':     XRefRole(lowercase=True, innernodeclass=nodes.inline,\\n',\n",
       " 'test_patch': 'diff --git a/tests/test_domain_std.py b/tests/test_domain_std.py\\n--- a/tests/test_domain_std.py\\n+++ b/tests/test_domain_std.py\\n@@ -99,7 +99,7 @@ def test_glossary(app):\\n     text = (\".. glossary::\\\\n\"\\n             \"\\\\n\"\\n             \"   term1\\\\n\"\\n-            \"   term2\\\\n\"\\n+            \"   TERM2\\\\n\"\\n             \"       description\\\\n\"\\n             \"\\\\n\"\\n             \"   term3 : classifier\\\\n\"\\n@@ -114,7 +114,7 @@ def test_glossary(app):\\n     assert_node(doctree, (\\n         [glossary, definition_list, ([definition_list_item, ([term, (\"term1\",\\n                                                                      index)],\\n-                                                             [term, (\"term2\",\\n+                                                             [term, (\"TERM2\",\\n                                                                      index)],\\n                                                              definition)],\\n                                      [definition_list_item, ([term, (\"term3\",\\n@@ -127,7 +127,7 @@ def test_glossary(app):\\n     assert_node(doctree[0][0][0][0][1],\\n                 entries=[(\"single\", \"term1\", \"term-term1\", \"main\", None)])\\n     assert_node(doctree[0][0][0][1][1],\\n-                entries=[(\"single\", \"term2\", \"term-term2\", \"main\", None)])\\n+                entries=[(\"single\", \"TERM2\", \"term-TERM2\", \"main\", None)])\\n     assert_node(doctree[0][0][0][2],\\n                 [definition, nodes.paragraph, \"description\"])\\n     assert_node(doctree[0][0][1][0][1],\\n@@ -143,7 +143,7 @@ def test_glossary(app):\\n     # index\\n     objects = list(app.env.get_domain(\"std\").get_objects())\\n     assert (\"term1\", \"term1\", \"term\", \"index\", \"term-term1\", -1) in objects\\n-    assert (\"term2\", \"term2\", \"term\", \"index\", \"term-term2\", -1) in objects\\n+    assert (\"TERM2\", \"TERM2\", \"term\", \"index\", \"term-TERM2\", -1) in objects\\n     assert (\"term3\", \"term3\", \"term\", \"index\", \"term-term3\", -1) in objects\\n     assert (\"term4\", \"term4\", \"term\", \"index\", \"term-term4\", -1) in objects\\n \\n',\n",
       " 'problem_statement': \"glossary duplicate term with a different case\\n**Describe the bug**\\r\\n```\\r\\nWarning, treated as error:\\r\\ndoc/glossary.rst:243:duplicate term description of mysql, other instance in glossary\\r\\n```\\r\\n\\r\\n**To Reproduce**\\r\\nSteps to reproduce the behavior:\\r\\n[.travis.yml#L168](https://github.com/phpmyadmin/phpmyadmin/blob/f7cc383674b7099190771b1db510c62bfbbf89a7/.travis.yml#L168)\\r\\n```\\r\\n$ git clone --depth 1 https://github.com/phpmyadmin/phpmyadmin.git\\r\\n$ cd doc\\r\\n$ pip install 'Sphinx'\\r\\n$ make html\\r\\n```\\r\\n\\r\\n**Expected behavior**\\r\\nMySQL != mysql term right ?\\r\\n\\r\\n**Your project**\\r\\nhttps://github.com/phpmyadmin/phpmyadmin/blame/master/doc/glossary.rst#L234\\r\\n\\r\\n\\r\\n**Environment info**\\r\\n- OS: Unix\\r\\n- Python version: 3.6\\r\\n- Sphinx version: 3.0.0\\r\\n\\r\\n**Additional context**\\r\\nDid occur some hours ago, maybe you just released the version\\r\\n\\r\\n- https://travis-ci.org/github/williamdes/phpmyadmintest/jobs/671352365#L328\\r\\n\\r\\n\\n\",\n",
       " 'hints_text': \"Sorry for the inconvenience. Indeed, this must be a bug. I'll take a look this later.\",\n",
       " 'created_at': '2020-04-08T13:46:43Z',\n",
       " 'version': '3.0',\n",
       " 'FAIL_TO_PASS': '[\"tests/test_domain_std.py::test_glossary\"]',\n",
       " 'PASS_TO_PASS': '[\"tests/test_domain_std.py::test_process_doc_handle_figure_caption\", \"tests/test_domain_std.py::test_process_doc_handle_table_title\", \"tests/test_domain_std.py::test_get_full_qualified_name\", \"tests/test_domain_std.py::test_glossary_warning\", \"tests/test_domain_std.py::test_glossary_comment\", \"tests/test_domain_std.py::test_glossary_comment2\", \"tests/test_domain_std.py::test_glossary_sorted\", \"tests/test_domain_std.py::test_glossary_alphanumeric\", \"tests/test_domain_std.py::test_glossary_conflicted_labels\", \"tests/test_domain_std.py::test_cmdoption\", \"tests/test_domain_std.py::test_multiple_cmdoptions\", \"tests/test_domain_std.py::test_disabled_docref\"]',\n",
       " 'environment_setup_commit': '50d2d289e150cb429de15770bdd48a723de8c45d'}"
      ]
     },
     "execution_count": 29,
     "metadata": {},
     "output_type": "execute_result"
    }
   ],
   "source": [
    "inst"
   ]
  },
  {
   "cell_type": "code",
   "execution_count": null,
   "metadata": {},
   "outputs": [],
   "source": []
  }
 ],
 "metadata": {
  "kernelspec": {
   "display_name": "python-PN9waRBr",
   "language": "python",
   "name": "python3"
  },
  "language_info": {
   "codemirror_mode": {
    "name": "ipython",
    "version": 3
   },
   "file_extension": ".py",
   "mimetype": "text/x-python",
   "name": "python",
   "nbconvert_exporter": "python",
   "pygments_lexer": "ipython3",
   "version": "3.10.14"
  }
 },
 "nbformat": 4,
 "nbformat_minor": 2
}
